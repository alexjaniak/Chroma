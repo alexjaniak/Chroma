{
 "cells": [
  {
   "cell_type": "markdown",
   "metadata": {
    "cell_style": "center"
   },
   "source": [
    "# Extracts & refines data from Spotify using the Spotify API"
   ]
  },
  {
   "cell_type": "code",
   "execution_count": 1,
   "metadata": {},
   "outputs": [],
   "source": [
    "import os\n",
    "import spotipy \n",
    "from spotipy.oauth2 import SpotifyClientCredentials\n",
    "\n",
    "CLIENT_ID = os.environ.get('SPOTIFY_CLIENT_ID')\n",
    "CLIENT_SECRET = os.environ.get('SPOTIFY_CLIENT_SECRET')\n",
    "\n",
    "# spotify auth\n",
    "auth_manager = SpotifyClientCredentials(client_id = CLIENT_ID, client_secret = CLIENT_SECRET)\n",
    "sp = spotipy.Spotify(auth_manager=auth_manager)"
   ]
  },
  {
   "cell_type": "code",
   "execution_count": 2,
   "metadata": {},
   "outputs": [],
   "source": [
    "from dg_tools import SpotifyTools as st\n",
    "\n",
    "# fetch classical essentials playlist & all its track audio features\n",
    "ce_id = '37i9dQZF1DWWEJlAGA9gs0' # classical essentials playlist id\n",
    "ce_df = st.get_playlist(ce_id,sp)\n",
    "ce_af = st.get_track_audio_features(ce_df.id,sp)\n",
    "ce_df = ce_df.join(ce_af)"
   ]
  },
  {
   "cell_type": "code",
   "execution_count": 3,
   "metadata": {},
   "outputs": [
    {
     "output_type": "execute_result",
     "data": {
      "text/plain": [
       "                                                  name  \\\n",
       "0    The Well-Tempered Clavier: Book 1, BWV 846-869...   \n",
       "1                                   The Lark Ascending   \n",
       "2    Handel / Orch. Hale: Keyboard Suite in D Minor...   \n",
       "3     Bagatelle No. 25 in A Minor, \"Für Elise\", WoO 59   \n",
       "4    Rhapsody On A Theme Of Paganini, Op.43: Variat...   \n",
       "..                                                 ...   \n",
       "164  The Firebird (L'oiseau De Feu) - Suite (1919):...   \n",
       "165  Holberg Suite, Op. 40: 1. Präludium (Allegro v...   \n",
       "166                        Die Forelle, Op. 32, D. 550   \n",
       "167  Cello Concerto No. 1 in C Major, Hob.VIIb:1: I...   \n",
       "168                                 Lohengrin: Prelude   \n",
       "\n",
       "                                           artist_name  \\\n",
       "0                   [Johann Sebastian Bach, Lang Lang]   \n",
       "1    [Ralph Vaughan Williams, Tasmin Little, BBC Ph...   \n",
       "2    [George Frideric Handel, Alexander Briger, Aca...   \n",
       "3                    [Ludwig van Beethoven, Lang Lang]   \n",
       "4    [Sergei Rachmaninoff, Daniil Trifonov, Philade...   \n",
       "..                                                 ...   \n",
       "164  [Igor Stravinsky, Orchestre de l'Opéra Bastill...   \n",
       "165  [Edvard Grieg, Gothenburg Symphony Orchestra, ...   \n",
       "166  [Franz Schubert, Dietrich Fischer-Dieskau, Ger...   \n",
       "167  [Franz Joseph Haydn, Steven Isserlis, Sir Roge...   \n",
       "168  [Richard Wagner, Slovak Philharmonic, Michael ...   \n",
       "\n",
       "                         id  danceability  energy  key  loudness  mode  \\\n",
       "0    4SFBV7SRNG2e2kyL1F6kjU        0.2210  0.1260    0   -25.427     1   \n",
       "1    2kAgCRZPG3YQR2VMqRvLmb        0.0811  0.0122    4   -32.654     0   \n",
       "2    1upQiytDIEZfl9ItruoXuC        0.2040  0.0331    2   -24.044     0   \n",
       "3    0H2VhGUC3P3hvwz8rdGIpC        0.2300  0.0487    5   -27.675     1   \n",
       "4    5xcYuTciYwyCDPkOgYBAYz        0.2050  0.0525    1   -23.841     1   \n",
       "..                      ...           ...     ...  ...       ...   ...   \n",
       "164  0mTUTkFQ2MxmUHFL8EdfeR        0.1230  0.2250    4   -16.798     1   \n",
       "165  2f0RHvSl1vVGsnT9oxOHsS        0.2330  0.0637    7   -22.570     1   \n",
       "166  7lCqzDWT6GPECGp0TzMnR7        0.5140  0.0772   11   -21.076     1   \n",
       "167  0Gh45IbIKOG9IucFfrZqLT        0.3750  0.1210    0   -23.440     1   \n",
       "168  2x6mect1PKsrxXmsg2O23B        0.0667  0.0470    9   -25.426     1   \n",
       "\n",
       "     speechiness  acousticness  instrumentalness  liveness  valence    tempo  \n",
       "0         0.0447         0.989           0.89700    0.1020   0.2160  133.630  \n",
       "1         0.0511         0.902           0.30800    0.0648   0.0384   74.554  \n",
       "2         0.0487         0.927           0.82500    0.0954   0.0547  116.200  \n",
       "3         0.0412         0.986           0.94500    0.0679   0.1010  134.839  \n",
       "4         0.0327         0.980           0.90600    0.1030   0.0511   88.316  \n",
       "..           ...           ...               ...       ...      ...      ...  \n",
       "164       0.0351         0.730           0.50900    0.0658   0.0550   78.132  \n",
       "165       0.0373         0.918           0.94700    0.1180   0.2680  135.338  \n",
       "166       0.0352         0.981           0.00306    0.0859   0.5110   87.514  \n",
       "167       0.0406         0.984           0.87100    0.0984   0.4530  147.398  \n",
       "168       0.0425         0.928           0.90000    0.0652   0.0281   75.446  \n",
       "\n",
       "[169 rows x 14 columns]"
      ],
      "text/html": "<div>\n<style scoped>\n    .dataframe tbody tr th:only-of-type {\n        vertical-align: middle;\n    }\n\n    .dataframe tbody tr th {\n        vertical-align: top;\n    }\n\n    .dataframe thead th {\n        text-align: right;\n    }\n</style>\n<table border=\"1\" class=\"dataframe\">\n  <thead>\n    <tr style=\"text-align: right;\">\n      <th></th>\n      <th>name</th>\n      <th>artist_name</th>\n      <th>id</th>\n      <th>danceability</th>\n      <th>energy</th>\n      <th>key</th>\n      <th>loudness</th>\n      <th>mode</th>\n      <th>speechiness</th>\n      <th>acousticness</th>\n      <th>instrumentalness</th>\n      <th>liveness</th>\n      <th>valence</th>\n      <th>tempo</th>\n    </tr>\n  </thead>\n  <tbody>\n    <tr>\n      <th>0</th>\n      <td>The Well-Tempered Clavier: Book 1, BWV 846-869...</td>\n      <td>[Johann Sebastian Bach, Lang Lang]</td>\n      <td>4SFBV7SRNG2e2kyL1F6kjU</td>\n      <td>0.2210</td>\n      <td>0.1260</td>\n      <td>0</td>\n      <td>-25.427</td>\n      <td>1</td>\n      <td>0.0447</td>\n      <td>0.989</td>\n      <td>0.89700</td>\n      <td>0.1020</td>\n      <td>0.2160</td>\n      <td>133.630</td>\n    </tr>\n    <tr>\n      <th>1</th>\n      <td>The Lark Ascending</td>\n      <td>[Ralph Vaughan Williams, Tasmin Little, BBC Ph...</td>\n      <td>2kAgCRZPG3YQR2VMqRvLmb</td>\n      <td>0.0811</td>\n      <td>0.0122</td>\n      <td>4</td>\n      <td>-32.654</td>\n      <td>0</td>\n      <td>0.0511</td>\n      <td>0.902</td>\n      <td>0.30800</td>\n      <td>0.0648</td>\n      <td>0.0384</td>\n      <td>74.554</td>\n    </tr>\n    <tr>\n      <th>2</th>\n      <td>Handel / Orch. Hale: Keyboard Suite in D Minor...</td>\n      <td>[George Frideric Handel, Alexander Briger, Aca...</td>\n      <td>1upQiytDIEZfl9ItruoXuC</td>\n      <td>0.2040</td>\n      <td>0.0331</td>\n      <td>2</td>\n      <td>-24.044</td>\n      <td>0</td>\n      <td>0.0487</td>\n      <td>0.927</td>\n      <td>0.82500</td>\n      <td>0.0954</td>\n      <td>0.0547</td>\n      <td>116.200</td>\n    </tr>\n    <tr>\n      <th>3</th>\n      <td>Bagatelle No. 25 in A Minor, \"Für Elise\", WoO 59</td>\n      <td>[Ludwig van Beethoven, Lang Lang]</td>\n      <td>0H2VhGUC3P3hvwz8rdGIpC</td>\n      <td>0.2300</td>\n      <td>0.0487</td>\n      <td>5</td>\n      <td>-27.675</td>\n      <td>1</td>\n      <td>0.0412</td>\n      <td>0.986</td>\n      <td>0.94500</td>\n      <td>0.0679</td>\n      <td>0.1010</td>\n      <td>134.839</td>\n    </tr>\n    <tr>\n      <th>4</th>\n      <td>Rhapsody On A Theme Of Paganini, Op.43: Variat...</td>\n      <td>[Sergei Rachmaninoff, Daniil Trifonov, Philade...</td>\n      <td>5xcYuTciYwyCDPkOgYBAYz</td>\n      <td>0.2050</td>\n      <td>0.0525</td>\n      <td>1</td>\n      <td>-23.841</td>\n      <td>1</td>\n      <td>0.0327</td>\n      <td>0.980</td>\n      <td>0.90600</td>\n      <td>0.1030</td>\n      <td>0.0511</td>\n      <td>88.316</td>\n    </tr>\n    <tr>\n      <th>...</th>\n      <td>...</td>\n      <td>...</td>\n      <td>...</td>\n      <td>...</td>\n      <td>...</td>\n      <td>...</td>\n      <td>...</td>\n      <td>...</td>\n      <td>...</td>\n      <td>...</td>\n      <td>...</td>\n      <td>...</td>\n      <td>...</td>\n      <td>...</td>\n    </tr>\n    <tr>\n      <th>164</th>\n      <td>The Firebird (L'oiseau De Feu) - Suite (1919):...</td>\n      <td>[Igor Stravinsky, Orchestre de l'Opéra Bastill...</td>\n      <td>0mTUTkFQ2MxmUHFL8EdfeR</td>\n      <td>0.1230</td>\n      <td>0.2250</td>\n      <td>4</td>\n      <td>-16.798</td>\n      <td>1</td>\n      <td>0.0351</td>\n      <td>0.730</td>\n      <td>0.50900</td>\n      <td>0.0658</td>\n      <td>0.0550</td>\n      <td>78.132</td>\n    </tr>\n    <tr>\n      <th>165</th>\n      <td>Holberg Suite, Op. 40: 1. Präludium (Allegro v...</td>\n      <td>[Edvard Grieg, Gothenburg Symphony Orchestra, ...</td>\n      <td>2f0RHvSl1vVGsnT9oxOHsS</td>\n      <td>0.2330</td>\n      <td>0.0637</td>\n      <td>7</td>\n      <td>-22.570</td>\n      <td>1</td>\n      <td>0.0373</td>\n      <td>0.918</td>\n      <td>0.94700</td>\n      <td>0.1180</td>\n      <td>0.2680</td>\n      <td>135.338</td>\n    </tr>\n    <tr>\n      <th>166</th>\n      <td>Die Forelle, Op. 32, D. 550</td>\n      <td>[Franz Schubert, Dietrich Fischer-Dieskau, Ger...</td>\n      <td>7lCqzDWT6GPECGp0TzMnR7</td>\n      <td>0.5140</td>\n      <td>0.0772</td>\n      <td>11</td>\n      <td>-21.076</td>\n      <td>1</td>\n      <td>0.0352</td>\n      <td>0.981</td>\n      <td>0.00306</td>\n      <td>0.0859</td>\n      <td>0.5110</td>\n      <td>87.514</td>\n    </tr>\n    <tr>\n      <th>167</th>\n      <td>Cello Concerto No. 1 in C Major, Hob.VIIb:1: I...</td>\n      <td>[Franz Joseph Haydn, Steven Isserlis, Sir Roge...</td>\n      <td>0Gh45IbIKOG9IucFfrZqLT</td>\n      <td>0.3750</td>\n      <td>0.1210</td>\n      <td>0</td>\n      <td>-23.440</td>\n      <td>1</td>\n      <td>0.0406</td>\n      <td>0.984</td>\n      <td>0.87100</td>\n      <td>0.0984</td>\n      <td>0.4530</td>\n      <td>147.398</td>\n    </tr>\n    <tr>\n      <th>168</th>\n      <td>Lohengrin: Prelude</td>\n      <td>[Richard Wagner, Slovak Philharmonic, Michael ...</td>\n      <td>2x6mect1PKsrxXmsg2O23B</td>\n      <td>0.0667</td>\n      <td>0.0470</td>\n      <td>9</td>\n      <td>-25.426</td>\n      <td>1</td>\n      <td>0.0425</td>\n      <td>0.928</td>\n      <td>0.90000</td>\n      <td>0.0652</td>\n      <td>0.0281</td>\n      <td>75.446</td>\n    </tr>\n  </tbody>\n</table>\n<p>169 rows × 14 columns</p>\n</div>"
     },
     "metadata": {},
     "execution_count": 3
    }
   ],
   "source": [
    "ce_df"
   ]
  },
  {
   "cell_type": "code",
   "execution_count": 4,
   "metadata": {},
   "outputs": [],
   "source": [
    "ce_df.to_csv('classical_essentials')"
   ]
  }
 ],
 "metadata": {
  "kernelspec": {
   "display_name": "Python 3",
   "language": "python",
   "name": "python3"
  },
  "language_info": {
   "codemirror_mode": {
    "name": "ipython",
    "version": 3
   },
   "file_extension": ".py",
   "mimetype": "text/x-python",
   "name": "python",
   "nbconvert_exporter": "python",
   "pygments_lexer": "ipython3",
   "version": "3.7.3-final"
  },
  "toc": {
   "base_numbering": 1,
   "nav_menu": {},
   "number_sections": true,
   "sideBar": true,
   "skip_h1_title": false,
   "title_cell": "Table of Contents",
   "title_sidebar": "Contents",
   "toc_cell": false,
   "toc_position": {},
   "toc_section_display": true,
   "toc_window_display": false
  }
 },
 "nbformat": 4,
 "nbformat_minor": 4
}