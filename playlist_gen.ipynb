{
 "metadata": {
  "language_info": {
   "codemirror_mode": {
    "name": "ipython",
    "version": 3
   },
   "file_extension": ".py",
   "mimetype": "text/x-python",
   "name": "python",
   "nbconvert_exporter": "python",
   "pygments_lexer": "ipython3",
   "version": "3.7.3-final"
  },
  "orig_nbformat": 2,
  "kernelspec": {
   "name": "python3",
   "display_name": "Python 3",
   "language": "python"
  }
 },
 "nbformat": 4,
 "nbformat_minor": 2,
 "cells": [
  {
   "cell_type": "code",
   "execution_count": 1,
   "metadata": {},
   "outputs": [],
   "source": [
    "import pandas as pd\n",
    "\n",
    "# read playlist data \n",
    "ce_df = pd.read_csv('classical_essentials',index_col=0)"
   ]
  },
  {
   "cell_type": "code",
   "execution_count": 1,
   "metadata": {},
   "outputs": [
    {
     "output_type": "stream",
     "name": "stderr",
     "text": [
      "Couldn't read cache at: .cache-polishguy12\n",
      "Couldn't read cache at: .cache-polishguy12\n"
     ]
    }
   ],
   "source": [
    "import os\n",
    "import spotipy \n",
    "\n",
    "CLIENT_ID = os.environ.get('SPOTIFY_CLIENT_ID')\n",
    "CLIENT_SECRET = os.environ.get('SPOTIFY_CLIENT_SECRET')\n",
    "USERNAME = 'polishguy12'\n",
    "\n",
    "# spotify auth \n",
    "token = spotipy.util.prompt_for_user_token(\n",
    "    username=USERNAME,\n",
    "    scope='playlist-modify-private', \n",
    "    client_id=CLIENT_ID, \n",
    "    client_secret=CLIENT_SECRET, \n",
    "    redirect_uri='http://localhost:8888/callback'\n",
    ")"
   ]
  },
  {
   "cell_type": "code",
   "execution_count": 5,
   "metadata": {},
   "outputs": [
    {
     "output_type": "execute_result",
     "data": {
      "text/plain": [
       "{'display_name': 'Alexander Janiak',\n",
       " 'external_urls': {'spotify': 'https://open.spotify.com/user/polishguy12'},\n",
       " 'followers': {'href': None, 'total': 15},\n",
       " 'href': 'https://api.spotify.com/v1/users/polishguy12',\n",
       " 'id': 'polishguy12',\n",
       " 'images': [],\n",
       " 'type': 'user',\n",
       " 'uri': 'spotify:user:polishguy12'}"
      ]
     },
     "metadata": {},
     "execution_count": 5
    }
   ],
   "source": [
    "sp = spotipy.Spotify(auth=token)\n",
    "user = sp.current_user()"
   ]
  },
  {
   "cell_type": "code",
   "execution_count": null,
   "metadata": {},
   "outputs": [],
   "source": [
    "playlist_count = 5\n"
   ]
  },
  {
   "cell_type": "code",
   "execution_count": null,
   "metadata": {},
   "outputs": [],
   "source": [
    "sp.user_playlist_create(\n",
    "    user = user.id,\n",
    "    name = 'ce_1',\n",
    "    public = False,\n",
    "    collaborative=False,\n",
    "    description=''\n",
    ")\n"
   ]
  }
 ]
}